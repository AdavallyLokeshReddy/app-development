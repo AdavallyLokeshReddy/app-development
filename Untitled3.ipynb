{
 "cells": [
  {
   "cell_type": "code",
   "execution_count": 6,
   "id": "08e48fab-367d-4945-bf35-0ac350c7ae7b",
   "metadata": {},
   "outputs": [
    {
     "name": "stdout",
     "output_type": "stream",
     "text": [
      "odd\n"
     ]
    }
   ],
   "source": [
    "#conventional if else\n",
    "\n",
    "num = 7\n",
    "if num %2 == 0:\n",
    "    print(\"even\")\n",
    "else:\n",
    "    print(\"odd\")"
   ]
  },
  {
   "cell_type": "code",
   "execution_count": 8,
   "id": "48cec715-aab2-470a-91a4-ed09a2142489",
   "metadata": {},
   "outputs": [
    {
     "name": "stdout",
     "output_type": "stream",
     "text": [
      "odd\n"
     ]
    }
   ],
   "source": [
    "print(\"even\") if num%2 == 0 else print(\"odd\")"
   ]
  },
  {
   "cell_type": "code",
   "execution_count": 12,
   "id": "087467ec-5fcf-403d-8ab0-4613f90cafdd",
   "metadata": {},
   "outputs": [
    {
     "name": "stdout",
     "output_type": "stream",
     "text": [
      "Positive\n"
     ]
    }
   ],
   "source": [
    "x = 10\n",
    "resultz = \"Positive\" if x > 0 else \"Negative\"\n",
    "print(resultz)"
   ]
  },
  {
   "cell_type": "code",
   "execution_count": 14,
   "id": "7197851c-64cb-4443-9dd9-b61129c8966c",
   "metadata": {},
   "outputs": [
    {
     "name": "stdin",
     "output_type": "stream",
     "text": [
      "Enter a number:  2\n"
     ]
    },
    {
     "name": "stdout",
     "output_type": "stream",
     "text": [
      "Positive\n"
     ]
    }
   ],
   "source": [
    "num = int(input(\"Enter a number: \"))\n",
    "result = \"Positive\" if num>0 else (\"Negative\" if num < 0 else \"Zero\")\n",
    "print(result)\n"
   ]
  },
  {
   "cell_type": "code",
   "execution_count": 18,
   "id": "2f90a143-e6ee-4df5-b4bd-df486ddd875e",
   "metadata": {},
   "outputs": [
    {
     "data": {
      "text/plain": [
       "[2.0, 0.2222222222222222, 1.0, 0.4, 0.2857142857142857, 0.4]"
      ]
     },
     "execution_count": 18,
     "metadata": {},
     "output_type": "execute_result"
    }
   ],
   "source": [
    "L = [1, 9, 2, 5, 7, 5]\n",
    "[2/x for x in L ]\n"
   ]
  },
  {
   "cell_type": "code",
   "execution_count": 32,
   "id": "f397c2dd-c18e-47aa-8179-cd98582a3745",
   "metadata": {},
   "outputs": [
    {
     "data": {
      "text/plain": [
       "[1, 9, 5, 7, 5]"
      ]
     },
     "execution_count": 32,
     "metadata": {},
     "output_type": "execute_result"
    }
   ],
   "source": [
    "L = [1, 9, 2, 5, 7, 5, 8, 6]\n",
    "[x for x in L if x%2 != 0]"
   ]
  },
  {
   "cell_type": "code",
   "execution_count": 44,
   "id": "6bb238eb-f2a2-44e3-b290-1765b44192e8",
   "metadata": {},
   "outputs": [
    {
     "data": {
      "text/plain": [
       "[55000, 55000, 52000, 55000, 65000]"
      ]
     },
     "execution_count": 44,
     "metadata": {},
     "output_type": "execute_result"
    }
   ],
   "source": [
    "g = 10000\n",
    "sal = [55000, 45000, 42000, 55000, 65000]\n",
    "[x + g if x<=50000 else x for x in sal]\n"
   ]
  },
  {
   "cell_type": "code",
   "execution_count": 50,
   "id": "81c6c45c-3f5e-461f-8287-abbf95ddecc7",
   "metadata": {},
   "outputs": [
    {
     "data": {
      "text/plain": [
       "[55000, 54000.0, 50400.0, 55000, 65000]"
      ]
     },
     "execution_count": 50,
     "metadata": {},
     "output_type": "execute_result"
    }
   ],
   "source": [
    "g = 1.2\n",
    "sal = [55000, 45000, 42000, 55000, 65000]\n",
    "[x * g if x <= 50000 else x for x in sal]\n",
    "\n"
   ]
  },
  {
   "cell_type": "code",
   "execution_count": 60,
   "id": "5db2f373-383d-43d9-8521-f43319fb69bf",
   "metadata": {},
   "outputs": [
    {
     "data": {
      "text/plain": [
       "{'Ram': [70, 71, 98, 100], 'John': [21, 23, 29, 30]}"
      ]
     },
     "execution_count": 60,
     "metadata": {},
     "output_type": "execute_result"
    }
   ],
   "source": [
    "d1 = {'Ram':[70,71,98,100], 'John':[21,23,29,30]}\n",
    "d1"
   ]
  },
  {
   "cell_type": "code",
   "execution_count": 64,
   "id": "85439856-c918-4233-8956-0371e0bd3caa",
   "metadata": {},
   "outputs": [
    {
     "data": {
      "text/plain": [
       "{'Ram': 84.75, 'John': 25.75}"
      ]
     },
     "execution_count": 64,
     "metadata": {},
     "output_type": "execute_result"
    }
   ],
   "source": [
    "{k:sum(v)/len(v) for k,v in d1.items()}"
   ]
  },
  {
   "cell_type": "code",
   "execution_count": 13,
   "id": "c12955ae-2d3b-4a40-ab58-a7fe17e68c1d",
   "metadata": {},
   "outputs": [],
   "source": [
    "def mean_value(given_list):\n",
    "    total = sum(given_list)\n",
    "    average_value = total/len(given_list)\n",
    "    return average_value\n",
    "   "
   ]
  },
  {
   "cell_type": "code",
   "execution_count": 15,
   "id": "1e80a129-9194-4c18-b008-a908b3374a4a",
   "metadata": {},
   "outputs": [
    {
     "data": {
      "text/plain": [
       "5.0"
      ]
     },
     "execution_count": 15,
     "metadata": {},
     "output_type": "execute_result"
    }
   ],
   "source": [
    "L = [1,2,3,4,5,6,7,8,9]\n",
    "mean_value(L)"
   ]
  },
  {
   "cell_type": "code",
   "execution_count": 29,
   "id": "ccac93ba-27eb-41fa-9d89-81e467fa73ef",
   "metadata": {},
   "outputs": [],
   "source": [
    "def greet(name):\n",
    "    print(f\"Good morning {name}\")\n",
    "    "
   ]
  },
  {
   "cell_type": "code",
   "execution_count": 31,
   "id": "467fb7c4-6e79-4fc4-88a6-3879e2522fa2",
   "metadata": {},
   "outputs": [
    {
     "name": "stdout",
     "output_type": "stream",
     "text": [
      "Good morning \n"
     ]
    }
   ],
   "source": [
    "greet(\"\")"
   ]
  },
  {
   "cell_type": "code",
   "execution_count": 39,
   "id": "44ae8931-d9eb-4675-ba8d-57b3b1706714",
   "metadata": {},
   "outputs": [],
   "source": [
    "def avg_value(*n):\n",
    "    l = len(n)\n",
    "    average = sum(n)/l\n",
    "    return average\n"
   ]
  },
  {
   "cell_type": "code",
   "execution_count": 43,
   "id": "0f804014-f52d-44bb-968b-83a10e1c0749",
   "metadata": {},
   "outputs": [
    {
     "data": {
      "text/plain": [
       "3.8"
      ]
     },
     "execution_count": 43,
     "metadata": {},
     "output_type": "execute_result"
    }
   ],
   "source": [
    "avg_value(1,3,4,5,6)\n"
   ]
  },
  {
   "cell_type": "code",
   "execution_count": null,
   "id": "ed89b1a7-918e-4f5e-bebc-9eb3339b6d84",
   "metadata": {},
   "outputs": [],
   "source": []
  }
 ],
 "metadata": {
  "kernelspec": {
   "display_name": "Python [conda env:base] *",
   "language": "python",
   "name": "conda-base-py"
  },
  "language_info": {
   "codemirror_mode": {
    "name": "ipython",
    "version": 3
   },
   "file_extension": ".py",
   "mimetype": "text/x-python",
   "name": "python",
   "nbconvert_exporter": "python",
   "pygments_lexer": "ipython3",
   "version": "3.12.7"
  }
 },
 "nbformat": 4,
 "nbformat_minor": 5
}
